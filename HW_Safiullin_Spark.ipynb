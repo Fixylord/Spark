{
 "cells": [
  {
   "cell_type": "markdown",
   "metadata": {},
   "source": [
    "### SPARK INIT"
   ]
  },
  {
   "cell_type": "code",
   "execution_count": 2,
   "metadata": {},
   "outputs": [],
   "source": [
    "import pyspark \n",
    "from pyspark import broadcast\n",
    "from pyspark.sql import SparkSession"
   ]
  },
  {
   "cell_type": "code",
   "execution_count": 3,
   "metadata": {},
   "outputs": [],
   "source": [
    "from pyspark.sql.functions import *\n",
    "from pyspark.sql.types import ArrayType, StringType\n",
    "\n",
    "spark = SparkSession.builder.master('local[2]').appName('ILDAR-HW').getOrCreate()"
   ]
  },
  {
   "cell_type": "markdown",
   "metadata": {},
   "source": [
    "### LOADING DATA"
   ]
  },
  {
   "cell_type": "code",
   "execution_count": 4,
   "metadata": {},
   "outputs": [],
   "source": [
    "followers = spark.read.parquet('./bigdata20/followers.parquet')\n",
    "\n",
    "followers_posts = spark.read.json('./bigdata20/followers_posts_api_final.json')\n",
    "posts = spark.read.json('./bigdata20/posts_api.json')\n",
    "posts_likes = spark.read.parquet('./bigdata20/posts_likes.parquet')\n",
    "\n",
    "followers_posts_likes = spark.read.parquet('./bigdata20/followers_posts_likes.parquet')"
   ]
  },
  {
   "cell_type": "markdown",
   "metadata": {},
   "source": [
    "### TASK №1"
   ]
  },
  {
   "cell_type": "code",
   "execution_count": 6,
   "metadata": {},
   "outputs": [],
   "source": [
    "posts_likes = posts \\\n",
    "    .select('key','likes.count') \\\n",
    "        .sort(desc(\"count\")) \\\n",
    "            .limit(20)\n",
    "follow_posts_likes = followers_posts \\\n",
    "    .select('key','likes.count') \\\n",
    "        .sort(desc(\"count\")) \\\n",
    "            .limit(20)\n",
    "posts_likes.write \\\n",
    "    .json('./Ildar/1_task/posts_likes.json')\n",
    "follow_posts_likes.write \\\n",
    "    .json('./Ildar/1_task/follow_posts_likes.json')"
   ]
  },
  {
   "cell_type": "code",
   "execution_count": 7,
   "metadata": {},
   "outputs": [],
   "source": [
    "posts_comm = posts \\\n",
    "    .select('key','comments.count') \\\n",
    "        .sort(desc(\"count\")) \\\n",
    "            .limit(20)\n",
    "follow_posts_comm = followers_posts \\\n",
    "    .select('key','comments.count') \\\n",
    "        .sort(desc(\"count\")) \\\n",
    "            .limit(20)\n",
    "posts_comm.write \\\n",
    "    .json('./Ildar/1_task/posts_comm.json')\n",
    "follow_posts_comm.write \\\n",
    "    .json('./Ildar/1_task/follow_posts_comm.json')"
   ]
  },
  {
   "cell_type": "code",
   "execution_count": 8,
   "metadata": {},
   "outputs": [],
   "source": [
    "posts_rep = posts \\\n",
    "    .select('key','reposts.count') \\\n",
    "        .sort(desc(\"count\")) \\\n",
    "            .limit(20)\n",
    "follow_posts_rep = followers_posts \\\n",
    "    .select('key','reposts.count') \\\n",
    "        .sort(desc(\"count\")) \\\n",
    "            .limit(20)\n",
    "posts_rep.write \\\n",
    "    .json('./Ildar/1_task/posts_rep.json')\n",
    "follow_posts_rep.write \\\n",
    "    .json('./Ildar/1_task/follow_posts_rep.json')"
   ]
  },
  {
   "cell_type": "markdown",
   "metadata": {},
   "source": [
    "### TASK №2"
   ]
  },
  {
   "cell_type": "code",
   "execution_count": 9,
   "metadata": {},
   "outputs": [],
   "source": [
    "followers_likes = followers_posts_likes.groupby('likerId').agg(count('*').alias('likes_count')).sort(desc(\"likes_count\")).limit(20)\n",
    "followers_likes.write.json('./Ildar/2_task/followers_likes.json')\n",
    "followers_own = followers_posts.filter(col('copy_history.owner_id').isNotNull()).groupby('copy_history.owner_id').agg(count('*').alias('own_count')).sort(desc(\"own_count\")).limit(20)\n",
    "followers_own.write.json('./Ildar/2_task/followers_own.json')"
   ]
  },
  {
   "cell_type": "markdown",
   "metadata": {},
   "source": [
    "### TASK №3"
   ]
  },
  {
   "cell_type": "code",
   "execution_count": 10,
   "metadata": {},
   "outputs": [],
   "source": [
    "posts_followers_posts = posts.select('owner_id', col('id').alias('post_id')).join(followers_posts.select(col('owner_id').alias('user_id'), 'copy_history'), posts.owner_id == followers_posts.copy_history.owner_id.getItem(0)).select('post_id', 'user_id').groupby('post_id').agg(collect_set('user_id'))\n",
    "posts_followers_posts.write.json('./Ildar/3_task/posts_followers_posts.json')"
   ]
  },
  {
   "cell_type": "markdown",
   "metadata": {},
   "source": [
    "### TASK №4"
   ]
  },
  {
   "cell_type": "code",
   "execution_count": 11,
   "metadata": {},
   "outputs": [
    {
     "name": "stdout",
     "output_type": "stream",
     "text": [
      "Requirement already satisfied: emoji in /opt/conda/lib/python3.7/site-packages (0.5.4)\r\n"
     ]
    }
   ],
   "source": [
    "!pip install emoji"
   ]
  },
  {
   "cell_type": "code",
   "execution_count": 12,
   "metadata": {},
   "outputs": [],
   "source": [
    "import emoji"
   ]
  },
  {
   "cell_type": "code",
   "execution_count": 13,
   "metadata": {},
   "outputs": [],
   "source": [
    "sc = spark.sparkContext\n",
    "emojis = sc.broadcast(emoji.UNICODE_EMOJI)\n",
    "\n",
    "emoji_udf = udf(lambda text: [symb for symb in text if symb in emojis.value], ArrayType(StringType()))\n",
    "\n",
    "posts_text = posts.filter(posts.text != '').select('id','text')\n",
    "text_emoji = posts_text.select(\"id\", emoji_udf(\"text\").alias(\"emojis\"))\n",
    "text_emoji.write.json('./Ildar/4_task/text_emoji.json')"
   ]
  },
  {
   "cell_type": "markdown",
   "metadata": {},
   "source": [
    "### TASK №5"
   ]
  },
  {
   "cell_type": "code",
   "execution_count": 15,
   "metadata": {
    "scrolled": false
   },
   "outputs": [],
   "source": [
    "likes_without_self = followers_posts_likes.filter(followers_posts_likes.ownerId != followers_posts_likes.likerId)\n",
    "likes = likes_without_self.groupBy('likerId').agg(collect_set('ownerId').alias('ownerIdSet')).select(col('likerId').alias('likerUserId'), 'ownerIdSet')\n",
    "\n",
    "final_likes = likes.join(likes_without_self, likes.likerUserId == likes_without_self.ownerId)\n",
    "aggregated_likes = final_likes.withColumn(\"IsFriends\", expr(\"array_contains(ownerIdSet, likerId)\"))\n",
    "friends = aggregated_likes.filter(aggregated_likes.IsFriends == True).groupBy(col('ownerId').alias('user')).agg(collect_set('likerId').alias('friends'))\n",
    "friends.write.json('./Ildar/5_task/friends.json')"
   ]
  },
  {
   "cell_type": "markdown",
   "metadata": {},
   "source": [
    "### TASK №6"
   ]
  },
  {
   "cell_type": "code",
   "execution_count": 16,
   "metadata": {},
   "outputs": [],
   "source": [
    "fans = aggregated_likes.filter(aggregated_likes.IsFriends == False).groupBy(col('ownerId').alias('user')).agg(collect_set('likerId').alias('fans'))\n",
    "fans.write.json('./Ildar/6_task/fans.json')"
   ]
  },
  {
   "cell_type": "code",
   "execution_count": null,
   "metadata": {},
   "outputs": [],
   "source": []
  }
 ],
 "metadata": {
  "kernelspec": {
   "display_name": "Python 3",
   "language": "python",
   "name": "python3"
  },
  "language_info": {
   "codemirror_mode": {
    "name": "ipython",
    "version": 3
   },
   "file_extension": ".py",
   "mimetype": "text/x-python",
   "name": "python",
   "nbconvert_exporter": "python",
   "pygments_lexer": "ipython3",
   "version": "3.7.6"
  }
 },
 "nbformat": 4,
 "nbformat_minor": 4
}
